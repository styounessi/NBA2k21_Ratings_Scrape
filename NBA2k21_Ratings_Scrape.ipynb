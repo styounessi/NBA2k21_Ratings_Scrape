{
 "cells": [
  {
   "cell_type": "code",
   "execution_count": 24,
   "metadata": {},
   "outputs": [],
   "source": [
    "import pandas as pd\n",
    "import requests\n",
    "from bs4 import BeautifulSoup"
   ]
  },
  {
   "cell_type": "code",
   "execution_count": 25,
   "metadata": {
    "scrolled": true
   },
   "outputs": [],
   "source": [
    "# Initial Scrape\n",
    "\n",
    "url = 'https://nba2kw.com/list/nba-2k-ratings-top-100-players/'\n",
    "req = requests.get(url)\n",
    "\n",
    "data = req.text\n",
    "soup = BeautifulSoup(req.content, 'lxml')"
   ]
  },
  {
   "cell_type": "code",
   "execution_count": 26,
   "metadata": {},
   "outputs": [
    {
     "data": {
      "text/plain": [
       "[    Rank                 Player      Team Pos.  OVR Height  \\\n",
       " 0      1           LeBron James    Lakers   SF   98   6'9\"   \n",
       " 1      2  Giannis Antetokounmpo     Bucks   PF   97  6'11\"   \n",
       " 2      3           James Harden   Rockets   SG   96   6'5\"   \n",
       " 3      4          Kawhi Leonard  Clippers   SF   96   6'7\"   \n",
       " 4      5          Anthony Davis    Lakers   PF   96  6'10\"   \n",
       " ..   ...                    ...       ...  ...  ...    ...   \n",
       " 95    96             Al Horford     76ers    C   80   6'9\"   \n",
       " 96    97           Marcus Smart   Celtics   SG   80   6'3\"   \n",
       " 97    98        Dejounte Murray     Spurs   PG   80   6'4\"   \n",
       " 98    99          Evan Fournier     Magic   SG   80   6'7\"   \n",
       " 99   100          Rui Hachimura   Wizards   PF   79   6'8\"   \n",
       " \n",
       "                        Build  \n",
       " 0   2-Way Slashing Playmaker  \n",
       " 1   2-Way Slashing Playmaker  \n",
       " 2           Offensive Threat  \n",
       " 3      2-Way Scoring Machine  \n",
       " 4             Interior Force  \n",
       " ..                       ...  \n",
       " 95  2-Way Mid-Range Finisher  \n",
       " 96        Perimeter Lockdown  \n",
       " 97     2-Way Scoring Machine  \n",
       " 98              Sharpshooter  \n",
       " 99      Mid-Range Specialist  \n",
       " \n",
       " [100 rows x 7 columns]]"
      ]
     },
     "metadata": {},
     "output_type": "display_data"
    }
   ],
   "source": [
    "# Inspect Table\n",
    "\n",
    "table = soup.find_all('table')[0]\n",
    "rank = pd.read_html(str(table))\n",
    "display(rank)"
   ]
  },
  {
   "cell_type": "code",
   "execution_count": 27,
   "metadata": {},
   "outputs": [
    {
     "data": {
      "text/html": [
       "<div>\n",
       "<style scoped>\n",
       "    .dataframe tbody tr th:only-of-type {\n",
       "        vertical-align: middle;\n",
       "    }\n",
       "\n",
       "    .dataframe tbody tr th {\n",
       "        vertical-align: top;\n",
       "    }\n",
       "\n",
       "    .dataframe thead th {\n",
       "        text-align: right;\n",
       "    }\n",
       "</style>\n",
       "<table border=\"1\" class=\"dataframe\">\n",
       "  <thead>\n",
       "    <tr style=\"text-align: right;\">\n",
       "      <th></th>\n",
       "      <th>Player</th>\n",
       "      <th>Team</th>\n",
       "      <th>Pos.</th>\n",
       "      <th>OVR</th>\n",
       "      <th>Height</th>\n",
       "      <th>Build</th>\n",
       "    </tr>\n",
       "    <tr>\n",
       "      <th>Rank</th>\n",
       "      <th></th>\n",
       "      <th></th>\n",
       "      <th></th>\n",
       "      <th></th>\n",
       "      <th></th>\n",
       "      <th></th>\n",
       "    </tr>\n",
       "  </thead>\n",
       "  <tbody>\n",
       "    <tr>\n",
       "      <th>1</th>\n",
       "      <td>LeBron James</td>\n",
       "      <td>Lakers</td>\n",
       "      <td>SF</td>\n",
       "      <td>98</td>\n",
       "      <td>6'9\"</td>\n",
       "      <td>2-Way Slashing Playmaker</td>\n",
       "    </tr>\n",
       "    <tr>\n",
       "      <th>2</th>\n",
       "      <td>Giannis Antetokounmpo</td>\n",
       "      <td>Bucks</td>\n",
       "      <td>PF</td>\n",
       "      <td>97</td>\n",
       "      <td>6'11\"</td>\n",
       "      <td>2-Way Slashing Playmaker</td>\n",
       "    </tr>\n",
       "    <tr>\n",
       "      <th>3</th>\n",
       "      <td>James Harden</td>\n",
       "      <td>Rockets</td>\n",
       "      <td>SG</td>\n",
       "      <td>96</td>\n",
       "      <td>6'5\"</td>\n",
       "      <td>Offensive Threat</td>\n",
       "    </tr>\n",
       "    <tr>\n",
       "      <th>4</th>\n",
       "      <td>Kawhi Leonard</td>\n",
       "      <td>Clippers</td>\n",
       "      <td>SF</td>\n",
       "      <td>96</td>\n",
       "      <td>6'7\"</td>\n",
       "      <td>2-Way Scoring Machine</td>\n",
       "    </tr>\n",
       "    <tr>\n",
       "      <th>5</th>\n",
       "      <td>Anthony Davis</td>\n",
       "      <td>Lakers</td>\n",
       "      <td>PF</td>\n",
       "      <td>96</td>\n",
       "      <td>6'10\"</td>\n",
       "      <td>Interior Force</td>\n",
       "    </tr>\n",
       "    <tr>\n",
       "      <th>...</th>\n",
       "      <td>...</td>\n",
       "      <td>...</td>\n",
       "      <td>...</td>\n",
       "      <td>...</td>\n",
       "      <td>...</td>\n",
       "      <td>...</td>\n",
       "    </tr>\n",
       "    <tr>\n",
       "      <th>96</th>\n",
       "      <td>Al Horford</td>\n",
       "      <td>76ers</td>\n",
       "      <td>C</td>\n",
       "      <td>80</td>\n",
       "      <td>6'9\"</td>\n",
       "      <td>2-Way Mid-Range Finisher</td>\n",
       "    </tr>\n",
       "    <tr>\n",
       "      <th>97</th>\n",
       "      <td>Marcus Smart</td>\n",
       "      <td>Celtics</td>\n",
       "      <td>SG</td>\n",
       "      <td>80</td>\n",
       "      <td>6'3\"</td>\n",
       "      <td>Perimeter Lockdown</td>\n",
       "    </tr>\n",
       "    <tr>\n",
       "      <th>98</th>\n",
       "      <td>Dejounte Murray</td>\n",
       "      <td>Spurs</td>\n",
       "      <td>PG</td>\n",
       "      <td>80</td>\n",
       "      <td>6'4\"</td>\n",
       "      <td>2-Way Scoring Machine</td>\n",
       "    </tr>\n",
       "    <tr>\n",
       "      <th>99</th>\n",
       "      <td>Evan Fournier</td>\n",
       "      <td>Magic</td>\n",
       "      <td>SG</td>\n",
       "      <td>80</td>\n",
       "      <td>6'7\"</td>\n",
       "      <td>Sharpshooter</td>\n",
       "    </tr>\n",
       "    <tr>\n",
       "      <th>100</th>\n",
       "      <td>Rui Hachimura</td>\n",
       "      <td>Wizards</td>\n",
       "      <td>PF</td>\n",
       "      <td>79</td>\n",
       "      <td>6'8\"</td>\n",
       "      <td>Mid-Range Specialist</td>\n",
       "    </tr>\n",
       "  </tbody>\n",
       "</table>\n",
       "<p>100 rows × 6 columns</p>\n",
       "</div>"
      ],
      "text/plain": [
       "                     Player      Team Pos.  OVR Height  \\\n",
       "Rank                                                     \n",
       "1              LeBron James    Lakers   SF   98   6'9\"   \n",
       "2     Giannis Antetokounmpo     Bucks   PF   97  6'11\"   \n",
       "3              James Harden   Rockets   SG   96   6'5\"   \n",
       "4             Kawhi Leonard  Clippers   SF   96   6'7\"   \n",
       "5             Anthony Davis    Lakers   PF   96  6'10\"   \n",
       "...                     ...       ...  ...  ...    ...   \n",
       "96               Al Horford     76ers    C   80   6'9\"   \n",
       "97             Marcus Smart   Celtics   SG   80   6'3\"   \n",
       "98          Dejounte Murray     Spurs   PG   80   6'4\"   \n",
       "99            Evan Fournier     Magic   SG   80   6'7\"   \n",
       "100           Rui Hachimura   Wizards   PF   79   6'8\"   \n",
       "\n",
       "                         Build  \n",
       "Rank                            \n",
       "1     2-Way Slashing Playmaker  \n",
       "2     2-Way Slashing Playmaker  \n",
       "3             Offensive Threat  \n",
       "4        2-Way Scoring Machine  \n",
       "5               Interior Force  \n",
       "...                        ...  \n",
       "96    2-Way Mid-Range Finisher  \n",
       "97          Perimeter Lockdown  \n",
       "98       2-Way Scoring Machine  \n",
       "99                Sharpshooter  \n",
       "100       Mid-Range Specialist  \n",
       "\n",
       "[100 rows x 6 columns]"
      ]
     },
     "metadata": {},
     "output_type": "display_data"
    }
   ],
   "source": [
    "# Convert to DataFrame\n",
    "\n",
    "df = pd.read_html(str(table))[0]\n",
    "df.set_index('Rank', inplace=True)\n",
    "display(df)"
   ]
  },
  {
   "cell_type": "code",
   "execution_count": 28,
   "metadata": {},
   "outputs": [
    {
     "data": {
      "text/plain": [
       "Nets        6\n",
       "Celtics     5\n",
       "76ers       5\n",
       "Clippers    5\n",
       "Jazz        4\n",
       "Name: Team, dtype: int64"
      ]
     },
     "execution_count": 28,
     "metadata": {},
     "output_type": "execute_result"
    }
   ],
   "source": [
    "# Teams with the most players in the NBA 2k21 Top 100\n",
    "\n",
    "df['Team'].value_counts().head()"
   ]
  },
  {
   "cell_type": "code",
   "execution_count": 29,
   "metadata": {},
   "outputs": [
    {
     "data": {
      "text/plain": [
       "'Offensive Threat'"
      ]
     },
     "execution_count": 29,
     "metadata": {},
     "output_type": "execute_result"
    }
   ],
   "source": [
    "# Most common player Build\n",
    "\n",
    "df['Build'].value_counts().idxmax()"
   ]
  },
  {
   "cell_type": "code",
   "execution_count": 30,
   "metadata": {},
   "outputs": [],
   "source": [
    "import matplotlib.pyplot as plt\n",
    "import seaborn as sns"
   ]
  },
  {
   "cell_type": "code",
   "execution_count": 31,
   "metadata": {},
   "outputs": [
    {
     "data": {
      "text/plain": [
       "(85.0, 100.0)"
      ]
     },
     "execution_count": 31,
     "metadata": {},
     "output_type": "execute_result"
    },
    {
     "data": {
      "image/png": "[encoded data removed]",
      "text/plain": [
       "<Figure size 1440x360 with 1 Axes>"
      ]
     },
     "metadata": {},
     "output_type": "display_data"
    }
   ],
   "source": [
    "# Plotting the Top 10 rated players\n",
    "\n",
    "df2 = df.head(10)\n",
    "sns.set(rc={'figure.figsize':(20,5)})\n",
    "sns.barplot(data=df2, x='Player', y='OVR')\n",
    "plt.ylim(85,100)"
   ]
  }
 ],
 "metadata": {
  "kernelspec": {
   "display_name": "Python 3",
   "language": "python",
   "name": "python3"
  },
  "language_info": {
   "codemirror_mode": {
    "name": "ipython",
    "version": 3
   },
   "file_extension": ".py",
   "mimetype": "text/x-python",
   "name": "python",
   "nbconvert_exporter": "python",
   "pygments_lexer": "ipython3",
   "version": "3.9.1"
  }
 },
 "nbformat": 4,
 "nbformat_minor": 4
}
